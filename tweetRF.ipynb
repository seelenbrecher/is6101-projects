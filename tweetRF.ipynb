{
  "nbformat": 4,
  "nbformat_minor": 0,
  "metadata": {
    "colab": {
      "name": "tweetRF.ipynb",
      "provenance": [],
      "collapsed_sections": []
    },
    "kernelspec": {
      "name": "python3",
      "display_name": "Python 3"
    },
    "language_info": {
      "name": "python"
    },
    "accelerator": "GPU"
  },
  "cells": [
    {
      "cell_type": "code",
      "metadata": {
        "colab": {
          "base_uri": "https://localhost:8080/"
        },
        "id": "fAY9etzm61gB",
        "outputId": "0364301f-7b13-4f43-d648-6cf5e70f15ed"
      },
      "source": [
        "from google.colab import drive\n",
        "drive.mount('/content/drive')"
      ],
      "execution_count": null,
      "outputs": [
        {
          "output_type": "stream",
          "name": "stdout",
          "text": [
            "Mounted at /content/drive\n"
          ]
        }
      ]
    },
    {
      "cell_type": "code",
      "metadata": {
        "id": "eGCrMrj769OG"
      },
      "source": [
        "userfile = '/content/drive/My Drive/IS6101project/userInfo.csv'\n",
        "trainDataTweetFile = '/content/drive/My Drive/IS6101project/FNSC_mapped_users_train.json'\n",
        "testDataTweetFile = '/content/drive/My Drive/IS6101project/FNSC_mapped_users_test.json'"
      ],
      "execution_count": null,
      "outputs": []
    },
    {
      "cell_type": "code",
      "metadata": {
        "id": "PMLxJZ5rn_yo"
      },
      "source": [
        "import pandas as pd\n",
        "import numpy as np\n",
        "import matplotlib.pyplot as plt\n",
        "%matplotlib inline\n",
        "import seaborn as sns\n",
        "import json\n",
        "import ast\n",
        "from sklearn.model_selection import train_test_split\n",
        "from sklearn.preprocessing import OneHotEncoder\n",
        "from sklearn.compose import make_column_transformer\n",
        "from sklearn.ensemble import RandomForestClassifier\n",
        "from sklearn.pipeline import make_pipeline\n",
        "from sklearn.metrics import accuracy_score, confusion_matrix, precision_score, recall_score, roc_auc_score, roc_curve, f1_score\n",
        "from sklearn.preprocessing import MinMaxScaler"
      ],
      "execution_count": null,
      "outputs": []
    },
    {
      "cell_type": "code",
      "metadata": {
        "colab": {
          "base_uri": "https://localhost:8080/",
          "height": 343
        },
        "id": "WWCPL16VoaQ0",
        "outputId": "d104248f-b701-4c1e-f04a-6fddc623ee34"
      },
      "source": [
        "df = pd.read_csv(userfile) #.sample(100000, random_state = RSEED)\n",
        "df.head()"
      ],
      "execution_count": null,
      "outputs": [
        {
          "output_type": "execute_result",
          "data": {
            "text/html": [
              "<div>\n",
              "<style scoped>\n",
              "    .dataframe tbody tr th:only-of-type {\n",
              "        vertical-align: middle;\n",
              "    }\n",
              "\n",
              "    .dataframe tbody tr th {\n",
              "        vertical-align: top;\n",
              "    }\n",
              "\n",
              "    .dataframe thead th {\n",
              "        text-align: right;\n",
              "    }\n",
              "</style>\n",
              "<table border=\"1\" class=\"dataframe\">\n",
              "  <thead>\n",
              "    <tr style=\"text-align: right;\">\n",
              "      <th></th>\n",
              "      <th>id</th>\n",
              "      <th>name</th>\n",
              "      <th>location</th>\n",
              "      <th>protected</th>\n",
              "      <th>verified</th>\n",
              "      <th>followers_count</th>\n",
              "      <th>friends_count</th>\n",
              "      <th>favourites_count</th>\n",
              "      <th>statuses_count</th>\n",
              "      <th>created_at</th>\n",
              "      <th>default_profile</th>\n",
              "      <th>default_profile_image</th>\n",
              "    </tr>\n",
              "  </thead>\n",
              "  <tbody>\n",
              "    <tr>\n",
              "      <th>0</th>\n",
              "      <td>84437700</td>\n",
              "      <td>The Good Life Agenda</td>\n",
              "      <td>San Francisco, CA</td>\n",
              "      <td>False</td>\n",
              "      <td>False</td>\n",
              "      <td>666</td>\n",
              "      <td>1203</td>\n",
              "      <td>131</td>\n",
              "      <td>4072</td>\n",
              "      <td>2009-10-22 22:14:12</td>\n",
              "      <td>False</td>\n",
              "      <td>False</td>\n",
              "    </tr>\n",
              "    <tr>\n",
              "      <th>1</th>\n",
              "      <td>26866991</td>\n",
              "      <td>Pete Witte</td>\n",
              "      <td>NaN</td>\n",
              "      <td>False</td>\n",
              "      <td>False</td>\n",
              "      <td>1494</td>\n",
              "      <td>1167</td>\n",
              "      <td>4169</td>\n",
              "      <td>6707</td>\n",
              "      <td>2009-03-26 22:10:15</td>\n",
              "      <td>False</td>\n",
              "      <td>False</td>\n",
              "    </tr>\n",
              "    <tr>\n",
              "      <th>2</th>\n",
              "      <td>245228712</td>\n",
              "      <td>Sara Elyse</td>\n",
              "      <td>Cincinnati</td>\n",
              "      <td>False</td>\n",
              "      <td>False</td>\n",
              "      <td>8392</td>\n",
              "      <td>599</td>\n",
              "      <td>38944</td>\n",
              "      <td>15906</td>\n",
              "      <td>2011-01-31 05:27:19</td>\n",
              "      <td>False</td>\n",
              "      <td>False</td>\n",
              "    </tr>\n",
              "    <tr>\n",
              "      <th>3</th>\n",
              "      <td>1917731</td>\n",
              "      <td>The Hill</td>\n",
              "      <td>Washington, DC</td>\n",
              "      <td>False</td>\n",
              "      <td>True</td>\n",
              "      <td>4260775</td>\n",
              "      <td>285</td>\n",
              "      <td>10</td>\n",
              "      <td>939739</td>\n",
              "      <td>2007-03-22 18:15:18</td>\n",
              "      <td>False</td>\n",
              "      <td>False</td>\n",
              "    </tr>\n",
              "    <tr>\n",
              "      <th>4</th>\n",
              "      <td>472948434</td>\n",
              "      <td>Chris Wetterich</td>\n",
              "      <td>Cincinnati</td>\n",
              "      <td>False</td>\n",
              "      <td>False</td>\n",
              "      <td>8521</td>\n",
              "      <td>1242</td>\n",
              "      <td>1194</td>\n",
              "      <td>45302</td>\n",
              "      <td>2012-01-24 13:39:43</td>\n",
              "      <td>True</td>\n",
              "      <td>False</td>\n",
              "    </tr>\n",
              "  </tbody>\n",
              "</table>\n",
              "</div>"
            ],
            "text/plain": [
              "          id                  name  ... default_profile  default_profile_image\n",
              "0   84437700  The Good Life Agenda  ...           False                  False\n",
              "1   26866991            Pete Witte  ...           False                  False\n",
              "2  245228712            Sara Elyse  ...           False                  False\n",
              "3    1917731              The Hill  ...           False                  False\n",
              "4  472948434       Chris Wetterich  ...            True                  False\n",
              "\n",
              "[5 rows x 12 columns]"
            ]
          },
          "metadata": {},
          "execution_count": 4
        }
      ]
    },
    {
      "cell_type": "code",
      "metadata": {
        "colab": {
          "base_uri": "https://localhost:8080/"
        },
        "id": "-r8KqhFKrApk",
        "outputId": "7e18db08-6ce3-409c-fd28-9fc4c1b741b1"
      },
      "source": [
        "df.columns\n",
        "ids = df['id'].to_numpy().astype(str)\n",
        "print(type(ids[0]))"
      ],
      "execution_count": null,
      "outputs": [
        {
          "output_type": "stream",
          "name": "stdout",
          "text": [
            "<class 'numpy.str_'>\n"
          ]
        }
      ]
    },
    {
      "cell_type": "code",
      "metadata": {
        "id": "4Pjob5v9vcxg"
      },
      "source": [
        "labelpath = '/content/drive/ My Drive/IS6101project/userLabel.json'\n",
        "file = open(labelpath, \"r\")\n",
        "\n",
        "contents = file.read()\n",
        "userLabel = ast.literal_eval(contents)\n",
        "\n",
        "file.close()"
      ],
      "execution_count": null,
      "outputs": []
    },
    {
      "cell_type": "code",
      "metadata": {
        "colab": {
          "base_uri": "https://localhost:8080/"
        },
        "id": "SpMW9o0vFK8s",
        "outputId": "1949ca76-f952-48f4-ab24-68d4aea15214"
      },
      "source": [
        "labels = []\n",
        "for user in ids:\n",
        "  labels.append(userLabel[user])\n",
        "\n",
        "print(len(labels))\n"
      ],
      "execution_count": null,
      "outputs": [
        {
          "output_type": "stream",
          "name": "stdout",
          "text": [
            "96099\n"
          ]
        }
      ]
    },
    {
      "cell_type": "code",
      "metadata": {
        "colab": {
          "base_uri": "https://localhost:8080/"
        },
        "id": "J1GZROuTHsed",
        "outputId": "2cee0aa7-7ca1-43f1-be3f-f4b324d1ccdc"
      },
      "source": [
        "df['labels'] = labels\n",
        "df.columns"
      ],
      "execution_count": null,
      "outputs": [
        {
          "output_type": "execute_result",
          "data": {
            "text/plain": [
              "Index(['id', 'name', 'location', 'protected', 'verified', 'followers_count',\n",
              "       'friends_count', 'favourites_count', 'statuses_count', 'created_at',\n",
              "       'default_profile', 'default_profile_image', 'labels'],\n",
              "      dtype='object')"
            ]
          },
          "metadata": {},
          "execution_count": 8
        }
      ]
    },
    {
      "cell_type": "code",
      "metadata": {
        "colab": {
          "base_uri": "https://localhost:8080/"
        },
        "id": "EpsvCIhyII77",
        "outputId": "db4fe6a5-6937-46e6-f469-683cbf8b6db5"
      },
      "source": [
        "df.isna().sum()"
      ],
      "execution_count": null,
      "outputs": [
        {
          "output_type": "execute_result",
          "data": {
            "text/plain": [
              "id                           0\n",
              "name                         6\n",
              "location                 22818\n",
              "protected                    0\n",
              "verified                     0\n",
              "followers_count              0\n",
              "friends_count                0\n",
              "favourites_count             0\n",
              "statuses_count               0\n",
              "created_at                   0\n",
              "default_profile              0\n",
              "default_profile_image        0\n",
              "labels                       0\n",
              "dtype: int64"
            ]
          },
          "metadata": {},
          "execution_count": 9
        }
      ]
    },
    {
      "cell_type": "code",
      "metadata": {
        "colab": {
          "base_uri": "https://localhost:8080/"
        },
        "id": "lcIR7EF9JtK0",
        "outputId": "d87f95bf-9c0a-49fa-d811-5829218e6d55"
      },
      "source": [
        "df['labels'].value_counts()"
      ],
      "execution_count": null,
      "outputs": [
        {
          "output_type": "execute_result",
          "data": {
            "text/plain": [
              "1    48979\n",
              "0    47120\n",
              "Name: labels, dtype: int64"
            ]
          },
          "metadata": {},
          "execution_count": 10
        }
      ]
    },
    {
      "cell_type": "code",
      "metadata": {
        "colab": {
          "base_uri": "https://localhost:8080/"
        },
        "id": "KJAPqFGlIwfV",
        "outputId": "42a3bd10-bba7-4d32-eb09-7f632d2cafda"
      },
      "source": [
        "print(df['location'].nunique())\n",
        "df['location'].unique()[0:10]"
      ],
      "execution_count": null,
      "outputs": [
        {
          "output_type": "stream",
          "name": "stdout",
          "text": [
            "30205\n"
          ]
        },
        {
          "output_type": "execute_result",
          "data": {
            "text/plain": [
              "array(['San Francisco, CA  ', nan, 'Cincinnati', 'Washington, DC',\n",
              "       'Cincinnati, OH', 'Kuching, Sarawak', 'Somewhere on Earth. I 🤔 ',\n",
              "       'USA', 'United States', 'The United States of America'],\n",
              "      dtype=object)"
            ]
          },
          "metadata": {},
          "execution_count": 11
        }
      ]
    },
    {
      "cell_type": "code",
      "metadata": {
        "colab": {
          "base_uri": "https://localhost:8080/"
        },
        "id": "u7lUfmQDJTKs",
        "outputId": "b3c2d9ca-7d31-4eeb-9bb8-387b272b0eef"
      },
      "source": [
        "print(df['created_at'].nunique())\n",
        "df['created_at'].unique()[:10]"
      ],
      "execution_count": null,
      "outputs": [
        {
          "output_type": "stream",
          "name": "stdout",
          "text": [
            "96086\n"
          ]
        },
        {
          "output_type": "execute_result",
          "data": {
            "text/plain": [
              "array(['2009-10-22 22:14:12', '2009-03-26 22:10:15',\n",
              "       '2011-01-31 05:27:19', '2007-03-22 18:15:18',\n",
              "       '2012-01-24 13:39:43', '2020-03-16 17:39:23',\n",
              "       '2010-07-09 14:03:03', '2009-07-12 02:47:40',\n",
              "       '2020-09-03 15:27:10', '2021-01-12 20:40:20'], dtype=object)"
            ]
          },
          "metadata": {},
          "execution_count": 12
        }
      ]
    },
    {
      "cell_type": "code",
      "metadata": {
        "id": "K5A0VvYVhsVX"
      },
      "source": [
        "df['location'] = df['location'].fillna('Missing')"
      ],
      "execution_count": null,
      "outputs": []
    },
    {
      "cell_type": "code",
      "metadata": {
        "colab": {
          "base_uri": "https://localhost:8080/"
        },
        "id": "VZ7X08CxiEtM",
        "outputId": "6d2346aa-7197-406e-dbf2-5c6f4630249b"
      },
      "source": [
        "print(df['location'].nunique())\n",
        "df['location'].unique()[0:10]"
      ],
      "execution_count": null,
      "outputs": [
        {
          "output_type": "stream",
          "name": "stdout",
          "text": [
            "30206\n"
          ]
        },
        {
          "output_type": "execute_result",
          "data": {
            "text/plain": [
              "array(['San Francisco, CA  ', 'Missing', 'Cincinnati', 'Washington, DC',\n",
              "       'Cincinnati, OH', 'Kuching, Sarawak', 'Somewhere on Earth. I 🤔 ',\n",
              "       'USA', 'United States', 'The United States of America'],\n",
              "      dtype=object)"
            ]
          },
          "metadata": {},
          "execution_count": 14
        }
      ]
    },
    {
      "cell_type": "code",
      "metadata": {
        "colab": {
          "base_uri": "https://localhost:8080/"
        },
        "id": "on6797w90Y8k",
        "outputId": "a613ea33-1fa9-4102-86c6-f6676e15715f"
      },
      "source": [
        "pd.value_counts(df.location)"
      ],
      "execution_count": null,
      "outputs": [
        {
          "output_type": "execute_result",
          "data": {
            "text/plain": [
              "Missing                  22818\n",
              "Washington, DC            1215\n",
              "United States             1175\n",
              "New York, NY               792\n",
              "London                     678\n",
              "                         ...  \n",
              "Cochin, Kerala               1\n",
              "Salisbury                    1\n",
              "Silicon Valley/Hawaii        1\n",
              "Zapopan, Jal. México.        1\n",
              "Ho Chi Minh City             1\n",
              "Name: location, Length: 30206, dtype: int64"
            ]
          },
          "metadata": {},
          "execution_count": 12
        }
      ]
    },
    {
      "cell_type": "code",
      "metadata": {
        "colab": {
          "base_uri": "https://localhost:8080/"
        },
        "id": "3XYCEAFLpyEm",
        "outputId": "beefdd0b-7467-4e51-cca2-8a30e3402b21"
      },
      "source": [
        "X = df[[ 'protected', 'verified', 'followers_count', 'friends_count', 'favourites_count', 'statuses_count', 'default_profile', 'default_profile_image']] #listed_count is missing 'location', 'created_at', \n",
        "len(X)\n",
        "Y = df['labels'] #.astype(int)\n",
        "# tfMap = {True: 1, False: 0}\n",
        "X['protected'] = X['protected'].astype(int)\n",
        "X['verified'] = X['verified'].astype(int)\n",
        "X['default_profile'] = X['default_profile'].astype(int)\n",
        "X['default_profile_image'] = X['default_profile_image'].astype(int)\n",
        "# X['protected'].value_counts()\n",
        "\n",
        "scaler = MinMaxScaler()\n",
        "X[['followers_count', 'friends_count','favourites_count', 'statuses_count']] = scaler.fit_transform(\n",
        "                                                      X[['followers_count', 'friends_count','favourites_count', 'statuses_count']])"
      ],
      "execution_count": null,
      "outputs": [
        {
          "output_type": "stream",
          "name": "stderr",
          "text": [
            "/usr/local/lib/python3.7/dist-packages/ipykernel_launcher.py:5: SettingWithCopyWarning: \n",
            "A value is trying to be set on a copy of a slice from a DataFrame.\n",
            "Try using .loc[row_indexer,col_indexer] = value instead\n",
            "\n",
            "See the caveats in the documentation: https://pandas.pydata.org/pandas-docs/stable/user_guide/indexing.html#returning-a-view-versus-a-copy\n",
            "  \"\"\"\n",
            "/usr/local/lib/python3.7/dist-packages/ipykernel_launcher.py:6: SettingWithCopyWarning: \n",
            "A value is trying to be set on a copy of a slice from a DataFrame.\n",
            "Try using .loc[row_indexer,col_indexer] = value instead\n",
            "\n",
            "See the caveats in the documentation: https://pandas.pydata.org/pandas-docs/stable/user_guide/indexing.html#returning-a-view-versus-a-copy\n",
            "  \n",
            "/usr/local/lib/python3.7/dist-packages/ipykernel_launcher.py:7: SettingWithCopyWarning: \n",
            "A value is trying to be set on a copy of a slice from a DataFrame.\n",
            "Try using .loc[row_indexer,col_indexer] = value instead\n",
            "\n",
            "See the caveats in the documentation: https://pandas.pydata.org/pandas-docs/stable/user_guide/indexing.html#returning-a-view-versus-a-copy\n",
            "  import sys\n",
            "/usr/local/lib/python3.7/dist-packages/ipykernel_launcher.py:8: SettingWithCopyWarning: \n",
            "A value is trying to be set on a copy of a slice from a DataFrame.\n",
            "Try using .loc[row_indexer,col_indexer] = value instead\n",
            "\n",
            "See the caveats in the documentation: https://pandas.pydata.org/pandas-docs/stable/user_guide/indexing.html#returning-a-view-versus-a-copy\n",
            "  \n",
            "/usr/local/lib/python3.7/dist-packages/ipykernel_launcher.py:13: SettingWithCopyWarning: \n",
            "A value is trying to be set on a copy of a slice from a DataFrame.\n",
            "Try using .loc[row_indexer,col_indexer] = value instead\n",
            "\n",
            "See the caveats in the documentation: https://pandas.pydata.org/pandas-docs/stable/user_guide/indexing.html#returning-a-view-versus-a-copy\n",
            "  del sys.path[0]\n",
            "/usr/local/lib/python3.7/dist-packages/pandas/core/indexing.py:1734: SettingWithCopyWarning: \n",
            "A value is trying to be set on a copy of a slice from a DataFrame.\n",
            "Try using .loc[row_indexer,col_indexer] = value instead\n",
            "\n",
            "See the caveats in the documentation: https://pandas.pydata.org/pandas-docs/stable/user_guide/indexing.html#returning-a-view-versus-a-copy\n",
            "  isetter(loc, value[:, i].tolist())\n"
          ]
        }
      ]
    },
    {
      "cell_type": "code",
      "metadata": {
        "colab": {
          "base_uri": "https://localhost:8080/"
        },
        "id": "uCVwBH9kAtKL",
        "outputId": "812aac31-89f4-46d2-8458-9b0a6e04b3ab"
      },
      "source": [
        "X['followers_count'][:5]"
      ],
      "execution_count": null,
      "outputs": [
        {
          "output_type": "execute_result",
          "data": {
            "text/plain": [
              "0    0.000005\n",
              "1    0.000011\n",
              "2    0.000065\n",
              "3    0.032751\n",
              "4    0.000065\n",
              "Name: followers_count, dtype: float64"
            ]
          },
          "metadata": {},
          "execution_count": 15
        }
      ]
    },
    {
      "cell_type": "code",
      "metadata": {
        "colab": {
          "base_uri": "https://localhost:8080/"
        },
        "id": "A7JpCyN41mkd",
        "outputId": "01b27f7e-50f7-4d4c-86ee-2f3e1cfd6369"
      },
      "source": [
        "cat_cols = list(df.select_dtypes(['object']).columns.values)\n",
        "print(cat_cols)\n",
        "X_categorical = df[['created_at']]. \\\n",
        "                  apply(lambda x: x.astype('category').cat.codes)\n",
        "Xfull = X.join(X_categorical)"
      ],
      "execution_count": null,
      "outputs": [
        {
          "output_type": "stream",
          "name": "stdout",
          "text": [
            "['name', 'location', 'created_at', 'labels']\n"
          ]
        }
      ]
    },
    {
      "cell_type": "code",
      "metadata": {
        "id": "y_qukSbnHPWp"
      },
      "source": [
        "RSEED = 50\n",
        "train, test, train_labels, test_labels = train_test_split(Xfull, Y, \n",
        "                                                          stratify = labels,\n",
        "                                                          test_size = 0.2, \n",
        "                                                          random_state = RSEED)"
      ],
      "execution_count": null,
      "outputs": []
    },
    {
      "cell_type": "code",
      "metadata": {
        "colab": {
          "base_uri": "https://localhost:8080/"
        },
        "id": "YHEdicWv22Rw",
        "outputId": "2616f861-cfc4-4981-ae38-31cab13e653b"
      },
      "source": [
        "clf = RandomForestClassifier(criterion='gini',\n",
        "                      n_estimators=100,\n",
        "                      bootstrap=True,\n",
        "                      oob_score=True,\n",
        "                      n_jobs=-1,\n",
        "                      random_state=RSEED,\n",
        "                      max_features=9)\n",
        "clf.fit(train, train_labels)\n",
        "# clf.score(test, test_labels)\n",
        "y_pred = clf.predict(test)\n",
        "accuracy_score(test_labels, y_pred)\n",
        "print(f\"The accuracy of the model is {round(accuracy_score(test_labels,y_pred),3)*100} %\")\n",
        "print(f\"The f1-score of the model is {round(f1_score(test_labels,y_pred, pos_label='1'),3)*100} %\")\n",
        "print(f\"The precision-score of the model is {round(precision_score(test_labels,y_pred, pos_label='1'),3)*100} %\")\n",
        "print(f\"The recall-score of the model is {round(recall_score(test_labels,y_pred, pos_label='1'),3)*100} %\")"
      ],
      "execution_count": null,
      "outputs": [
        {
          "output_type": "stream",
          "name": "stdout",
          "text": [
            "The accuracy of the model is 58.699999999999996 %\n",
            "The f1-score of the model is 60.4 %\n",
            "The precision-score of the model is 59.099999999999994 %\n",
            "The recall-score of the model is 61.8 %\n"
          ]
        }
      ]
    },
    {
      "cell_type": "code",
      "metadata": {
        "colab": {
          "base_uri": "https://localhost:8080/"
        },
        "id": "k2Fsdg2RHQAc",
        "outputId": "cd3d52c3-5adc-46a6-c372-737ad3168228"
      },
      "source": [
        "train.dtypes"
      ],
      "execution_count": null,
      "outputs": [
        {
          "output_type": "execute_result",
          "data": {
            "text/plain": [
              "location                 object\n",
              "protected                 int64\n",
              "verified                  int64\n",
              "followers_count           int64\n",
              "friends_count             int64\n",
              "favourites_count          int64\n",
              "statuses_count            int64\n",
              "created_at               object\n",
              "default_profile           int64\n",
              "default_profile_image     int64\n",
              "dtype: object"
            ]
          },
          "metadata": {},
          "execution_count": 17
        }
      ]
    },
    {
      "cell_type": "code",
      "metadata": {
        "id": "EnBcVr-8l1du"
      },
      "source": [
        "features_to_encode = list(X.select_dtypes(include = ['object']).columns) \n",
        "col_trans = make_column_transformer(\n",
        "                        (OneHotEncoder(handle_unknown='ignore'),features_to_encode),\n",
        "                        remainder = \"passthrough\"\n",
        "                        )\n"
      ],
      "execution_count": null,
      "outputs": []
    },
    {
      "cell_type": "code",
      "metadata": {
        "colab": {
          "base_uri": "https://localhost:8080/"
        },
        "id": "UmYVIMVfmh8u",
        "outputId": "5e86c6cf-3fcc-4c11-d425-8125bb7ad638"
      },
      "source": [
        "rf_classifier = RandomForestClassifier(\n",
        "                      criterion='gini',\n",
        "                      n_estimators=100,\n",
        "                      bootstrap=True,\n",
        "                      oob_score=True,\n",
        "                      n_jobs=-1,\n",
        "                      random_state=RSEED,\n",
        "                      max_features=8)\n",
        "# pipe = make_pipeline(col_trans, rf_classifier)\n",
        "# pipe.fit(train, train_labels)\n",
        "rf_classifier.fit(train, train_labels)\n"
      ],
      "execution_count": null,
      "outputs": [
        {
          "output_type": "execute_result",
          "data": {
            "text/plain": [
              "RandomForestClassifier(bootstrap=True, ccp_alpha=0.0, class_weight=None,\n",
              "                       criterion='gini', max_depth=None, max_features=8,\n",
              "                       max_leaf_nodes=None, max_samples=None,\n",
              "                       min_impurity_decrease=0.0, min_impurity_split=None,\n",
              "                       min_samples_leaf=1, min_samples_split=2,\n",
              "                       min_weight_fraction_leaf=0.0, n_estimators=100,\n",
              "                       n_jobs=-1, oob_score=True, random_state=50, verbose=0,\n",
              "                       warm_start=False)"
            ]
          },
          "metadata": {},
          "execution_count": 13
        }
      ]
    },
    {
      "cell_type": "code",
      "metadata": {
        "colab": {
          "base_uri": "https://localhost:8080/"
        },
        "id": "IDPsGzolu4Mp",
        "outputId": "02275dd5-1abe-48c3-aec9-e462c3da908c"
      },
      "source": [
        "# y_pred = pipe.predict(test)\n",
        "y_pred = rf_classifier.predict(test)\n",
        "accuracy_score(test_labels, y_pred)\n",
        "print(f\"The accuracy of the model is {round(accuracy_score(test_labels,y_pred),3)*100} %\")\n",
        "print(f\"The f1-score of the model is {round(f1_score(test_labels,y_pred, pos_label='1'),3)*100} %\")"
      ],
      "execution_count": null,
      "outputs": [
        {
          "output_type": "stream",
          "name": "stdout",
          "text": [
            "The accuracy of the model is 56.99999999999999 %\n",
            "The f1-score of the model is 58.5 %\n"
          ]
        }
      ]
    },
    {
      "cell_type": "markdown",
      "metadata": {
        "id": "MO9Y1Ht774Ql"
      },
      "source": [
        "Trial1:    Accuracy = 61.199%\n",
        "- No minmax scaling of integer features\n",
        "- ignore mismatch in locations between train and test for one hot encoding\n",
        "- use raw location and created_at data\n",
        "\n",
        "Trial2:    Accuracy = 61.1999%\n",
        "- MinMax scaling for integer features\n",
        "- same as pts 2,3 as trial 1\n",
        "\n",
        "Trial3:    Accuracy = 56.99%,  F1-Score = 58.5%\n",
        "- Removed location and created at features \n",
        "- used same setup as above\n",
        "\n",
        "Trial4: \n",
        "The accuracy of the model is 60.099999999999994 %\n",
        "The f1-score of the model is 61.199999999999996 %\n",
        "The precision-score of the model is 60.699999999999996 %\n",
        "The recall-score of the model is 61.7 %\n",
        "- Used location and created at with different categorical conversion\n",
        "- used min max scaling\n",
        "\n",
        "Trial5:    \n",
        "The accuracy of the model is 59.099999999999994 %\n",
        "The f1-score of the model is 60.0 %\n",
        "The precision-score of the model is 59.8 %\n",
        "The recall-score of the model is 60.3 %\n",
        "- used only location no created at\n",
        "\n",
        "Trial6:      \n",
        "The accuracy of the model is 58.699999999999996 %\n",
        "The f1-score of the model is 60.4 %\n",
        "The precision-score of the model is 59.099999999999994 %\n",
        "The recall-score of the model is 61.8 %\n",
        "- used only created at and not location"
      ]
    },
    {
      "cell_type": "code",
      "metadata": {
        "id": "JkwONJc4tamQ"
      },
      "source": [
        "import json\n",
        "userLabel = {}\n",
        "with open(trainDataTweetFile, 'r') as f:\n",
        "    for x in f:\n",
        "        x = json.loads(x)\n",
        "        # print(x['user_ids'])\n",
        "        for uid in x['user_ids']:\n",
        "          if uid in userLabel:\n",
        "            continue\n",
        "          else:\n",
        "            if uid in ids:\n",
        "              userLabel[uid] = x['label']\n",
        "            else:\n",
        "              continue\n"
      ],
      "execution_count": null,
      "outputs": []
    },
    {
      "cell_type": "code",
      "metadata": {
        "colab": {
          "base_uri": "https://localhost:8080/"
        },
        "id": "t3bSbJyXv7WJ",
        "outputId": "f692d8db-d182-4fdf-a205-975d4b9c51b9"
      },
      "source": [
        "len(userLabel)"
      ],
      "execution_count": null,
      "outputs": [
        {
          "output_type": "execute_result",
          "data": {
            "text/plain": [
              "88071"
            ]
          },
          "metadata": {},
          "execution_count": 28
        }
      ]
    },
    {
      "cell_type": "code",
      "metadata": {
        "id": "b-UlqV7ivTo0"
      },
      "source": [
        "with open(testDataTweetFile, 'r') as f:\n",
        "    for x in f:\n",
        "        x = json.loads(x)\n",
        "        for uid in x['user_ids']:\n",
        "          if uid in userLabel:\n",
        "            continue\n",
        "          else:\n",
        "            if uid in ids:\n",
        "              userLabel[uid] = x['label']\n",
        "            else:\n",
        "              continue"
      ],
      "execution_count": null,
      "outputs": []
    },
    {
      "cell_type": "code",
      "metadata": {
        "colab": {
          "base_uri": "https://localhost:8080/"
        },
        "id": "EFLB-sygvaMt",
        "outputId": "312fc0e4-57fe-4cc8-ae05-ae1e5ee41c5f"
      },
      "source": [
        "len(userLabel)"
      ],
      "execution_count": null,
      "outputs": [
        {
          "output_type": "execute_result",
          "data": {
            "text/plain": [
              "96099"
            ]
          },
          "metadata": {},
          "execution_count": 30
        }
      ]
    },
    {
      "cell_type": "code",
      "metadata": {
        "id": "1oJc_oGKxKo_"
      },
      "source": [
        ""
      ],
      "execution_count": null,
      "outputs": []
    }
  ]
}